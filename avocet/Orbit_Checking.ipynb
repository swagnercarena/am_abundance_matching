{
 "cells": [
  {
   "cell_type": "code",
   "execution_count": null,
   "metadata": {},
   "outputs": [],
   "source": [
    "import integrator\n",
    "import numpy as np\n",
    "import numba\n",
    "import matplotlib.pyplot as plt\n",
    "from PIL import Image, ImageDraw\n",
    "import os"
   ]
  },
  {
   "cell_type": "markdown",
   "metadata": {},
   "source": [
    "## Earth Moon System Example"
   ]
  },
  {
   "cell_type": "code",
   "execution_count": null,
   "metadata": {},
   "outputs": [],
   "source": [
    "rmoon = 385000e3\n",
    "m1 = 7.35e22\n",
    "m2 = 5.97e24\n",
    "G = 6.67430e-11\n",
    "yr2sec = 3.154e7\n",
    "vmoon = np.sqrt(G*m2/rmoon)\n",
    "\n",
    "part_pos = np.array([[0,-rmoon*m2/(m1+m2),0],[0,rmoon*m1/(m1+m2),0]],dtype=np.float64)\n",
    "part_vel = np.array([[vmoon,0,0],[-m1/m2*vmoon,0,0]],dtype=np.float64)\n",
    "part_mass = np.array([m1,m2],dtype=np.float64)\n",
    "dt = yr2sec/1e4\n",
    "num_dt = int(1e6)\n",
    "t = np.linspace(0,num_dt*dt,num_dt+1)\n",
    "save_pos = np.zeros((num_dt+1,2,3))\n",
    "save_vel = np.zeros((num_dt+1,2,3))\n",
    "\n",
    "integrator.leapfrog_int_nb(part_pos,part_vel,part_mass,dt,num_dt,save_pos,save_vel)"
   ]
  },
  {
   "cell_type": "code",
   "execution_count": null,
   "metadata": {},
   "outputs": [],
   "source": [
    "plt.figure()\n",
    "plt.plot(save_pos[:,0,0],save_pos[:,0,1])\n",
    "plt.plot(save_pos[:,1,0],save_pos[:,1,1])\n",
    "plt.ylabel('y position')\n",
    "plt.xlabel('x position')\n",
    "plt.legend(['%.2e kg particle'%(part_mass[0]),\n",
    "            '%.2e kg particle'%(part_mass[1])])\n",
    "plt.title('1 Year (12 orbits) of Earth-Moon System')\n",
    "plt.show()"
   ]
  },
  {
   "cell_type": "code",
   "execution_count": null,
   "metadata": {},
   "outputs": [],
   "source": [
    "# Check the timing - roughly 5 micro seconds per step for 2 body\n",
    "%timeit integrator.leapfrog_int_nb(part_pos,part_vel,part_mass,dt,num_dt,save_pos,save_vel)"
   ]
  },
  {
   "cell_type": "markdown",
   "metadata": {},
   "source": [
    "## e=0.9 Example"
   ]
  },
  {
   "cell_type": "code",
   "execution_count": null,
   "metadata": {},
   "outputs": [],
   "source": [
    "# Next we want to test the orbital properties of an e = 0.9 Kepplerian orbit\n",
    "e = 0.9\n",
    "rp = 1.9\n",
    "vt = 0.005927\n",
    "period = 243\n",
    "m1 = 1e2\n",
    "m2 = 1e7\n",
    "rcm = m1*rp/(m1+m2)\n",
    "vcm = vt/rp*rcm\n",
    "\n",
    "# For plotting the correct orbit\n",
    "a = rp*(1-e)/(1-e**2)\n",
    "\n",
    "part_pos = np.array([[rp,0,0],[0,0,0]],dtype=np.float64)\n",
    "part_vel = np.array([[0,vt-vcm,0],[0,-vcm,0]],dtype=np.float64)\n",
    "part_mass = np.array([m1,m2],dtype=np.float64)\n",
    "dt = period/2010.6\n",
    "num_dt = int(period/dt*200)\n",
    "t = np.linspace(0,num_dt*dt,num_dt+1)\n",
    "save_pos = np.zeros((num_dt+1,2,3))\n",
    "save_vel = np.zeros((num_dt+1,2,3))\n",
    "\n",
    "integrator.leapfrog_int_nb(part_pos,part_vel,part_mass,dt,num_dt,save_pos,save_vel)"
   ]
  },
  {
   "cell_type": "code",
   "execution_count": null,
   "metadata": {},
   "outputs": [],
   "source": [
    "plt.figure(figsize=(5,3),dpi=200)\n",
    "\n",
    "# Plot the orbits subsampled\n",
    "steps_per_period = int(np.ceil(period/dt))\n",
    "fudge = 0\n",
    "skip = 10\n",
    "for i in range(20):\n",
    "    plt.plot(save_pos[skip*i*steps_per_period:(skip*i+1)*steps_per_period,0,0]-\n",
    "             save_pos[skip*i*steps_per_period:(skip*i+1)*steps_per_period,1,0],\n",
    "             save_pos[skip*i*steps_per_period:(skip*i+1)*steps_per_period,0,1]-\n",
    "             save_pos[skip*i*steps_per_period:(skip*i+1)*steps_per_period,1,1],c='k')\n",
    "    \n",
    "# Plot the analytic solution\n",
    "theta = np.linspace(0,2*np.pi,2000)\n",
    "r = -a*(1-e**2)/(1+e*np.cos(theta))\n",
    "x_an = r*np.cos(theta)\n",
    "y_an = r*np.sin(theta)\n",
    "plt.plot(x_an,y_an,c='b')\n",
    "\n",
    "plt.axvline(0,c='k')\n",
    "plt.axhline(0,c='k')\n",
    "plt.ylabel('y position')\n",
    "plt.xlabel('x position')\n",
    "plt.title('e=0.9 Leapfrog Integration')\n",
    "plt.show()"
   ]
  },
  {
   "cell_type": "code",
   "execution_count": null,
   "metadata": {},
   "outputs": [],
   "source": []
  },
  {
   "cell_type": "markdown",
   "metadata": {},
   "source": [
    "## 3 Body Problem"
   ]
  },
  {
   "cell_type": "code",
   "execution_count": null,
   "metadata": {},
   "outputs": [],
   "source": [
    "part_pos = np.array([[2,0,0],[0,0,0],[0,2,0]],dtype=np.float64)\n",
    "part_vel = np.array([[0,1e-4,0],[0,0,0],[0,-1e-4,0]],dtype=np.float64)\n",
    "part_mass = np.array([100,100,10],dtype=np.float64)\n",
    "dt = 0.01\n",
    "num_dt = int(1e8)\n",
    "t = np.linspace(0,num_dt*dt,num_dt+1)\n",
    "save_pos = np.zeros((num_dt+1,3,3))\n",
    "save_vel = np.zeros((num_dt+1,3,3))\n",
    "\n",
    "integrator.leapfrog_int_nb(part_pos,part_vel,part_mass,dt,num_dt,save_pos,save_vel)"
   ]
  },
  {
   "cell_type": "code",
   "execution_count": null,
   "metadata": {},
   "outputs": [],
   "source": [
    "plt.figure()\n",
    "cut = int(8e7)\n",
    "plt.plot(save_pos[:cut:10000,0,0]-save_pos[:cut:10000,0,0],save_pos[:cut:10000,0,1]-save_pos[:cut:10000,0,1])\n",
    "plt.plot(save_pos[:cut:10000,1,0]-save_pos[:cut:10000,0,0],save_pos[:cut:10000,1,1]-save_pos[:cut:10000,0,1])\n",
    "plt.plot(save_pos[:cut:10000,2,0]-save_pos[:cut:10000,0,0],save_pos[:cut:10000,2,1]-save_pos[:cut:10000,0,1])\n",
    "# plt.xlim((-15,20))\n",
    "# plt.ylim((-5,50))\n",
    "plt.ylabel('y position')\n",
    "plt.xlabel('x position')\n",
    "plt.title('3 Bodies')\n",
    "plt.show()"
   ]
  },
  {
   "cell_type": "code",
   "execution_count": null,
   "metadata": {},
   "outputs": [],
   "source": [
    "time_step = int(2e5)\n",
    "length = int(8e7)\n",
    "sub_samp = int(1e5)\n",
    "images = []\n",
    "\n",
    "for i in range(int(length//time_step)):\n",
    "    if i%10 == 0:\n",
    "        print(i,time_step*i)\n",
    "    fig = plt.figure(figsize=(5,5),dpi=100)\n",
    "    plt_cut = time_step*i\n",
    "    plt.plot(save_pos[:plt_cut:sub_samp,0,0],save_pos[:plt_cut:sub_samp,0,1])\n",
    "    plt.plot(save_pos[:plt_cut:sub_samp,1,0],save_pos[:plt_cut:sub_samp,1,1])\n",
    "    plt.plot(save_pos[:plt_cut:sub_samp,2,0],save_pos[:plt_cut:sub_samp,2,1])\n",
    "    plt.ylabel('y position')\n",
    "    plt.xlabel('x position')\n",
    "    fig.savefig('temp_%i.png'%(i))\n",
    "    plt.close()\n",
    "    im = Image.open('temp_%i.png'%(i))\n",
    "    images.append(im)\n",
    "\n",
    "print('making the gif')\n",
    "images[0].save('3b.gif',save_all=True,append_images=images[1:],\n",
    "              optimize=False, duration=40, loop=0)\n",
    "\n",
    "print('cleaning up')\n",
    "for i in range(int(length//time_step)):\n",
    "    os.remove('temp_%i.png'%(i))"
   ]
  },
  {
   "cell_type": "code",
   "execution_count": null,
   "metadata": {},
   "outputs": [],
   "source": [
    "from galpy.potential import NFWPotential\n",
    "\n",
    "@numba.njit()\n",
    "def calc_neg_grad_nfw(rho_0,r_scale,pos_nfw,pos):\n",
    "\t\"\"\" Calculate the negative gradient of the nfw potential at a specific\n",
    "\t\tposition.\n",
    "\n",
    "\t\tParameters:\n",
    "\t\t\trho_0 (float): the density normalization parameter for the NFW\n",
    "\t\t\tr_scale (float): The scale radius for the NFW profile\n",
    "\t\t\tpos_nfw (np.array): The 3D position of the NFW\n",
    "\t\t\tpos (np.array): The 3D position to calculate the gradient at\n",
    "\n",
    "\t\"\"\"\n",
    "\tnorm = 4 * np.pi * G * rho_0 * r_scale**3\n",
    "\tr2 = np.sum(np.square(pos_nfw-pos))\n",
    "\tr = np.sqrt(r2)\n",
    "\tr_hat = (pos_nfw-pos)/r\n",
    "\n",
    "\treturn norm*(1/r2 * np.log(1+r/r_scale) - 1/(r_scale+r)*1/r) * r_hat"
   ]
  },
  {
   "cell_type": "code",
   "execution_count": null,
   "metadata": {},
   "outputs": [],
   "source": [
    "r_scale = 2\n",
    "rho_0 = 1\n",
    "nfw = NFWPotential(a=r_scale,amp=rho_0*G*4*np.pi*r_scale**3)"
   ]
  },
  {
   "cell_type": "code",
   "execution_count": null,
   "metadata": {},
   "outputs": [],
   "source": [
    "nfw.Rforce(1,0)"
   ]
  },
  {
   "cell_type": "code",
   "execution_count": null,
   "metadata": {},
   "outputs": [],
   "source": [
    "pos_nfw = np.zeros(3,dtype=np.float64)\n",
    "pos = np.zeros(3,dtype=np.float64)\n",
    "pos[0] = 1\n",
    "calc_neg_grad_nfw(rho_0,r_scale,pos_nfw,pos)-nfw.Rforce(1,0)"
   ]
  },
  {
   "cell_type": "code",
   "execution_count": null,
   "metadata": {},
   "outputs": [],
   "source": [
    "G"
   ]
  },
  {
   "cell_type": "code",
   "execution_count": null,
   "metadata": {},
   "outputs": [],
   "source": []
  }
 ],
 "metadata": {
  "kernelspec": {
   "display_name": "Python 3",
   "language": "python",
   "name": "python3"
  },
  "language_info": {
   "codemirror_mode": {
    "name": "ipython",
    "version": 3
   },
   "file_extension": ".py",
   "mimetype": "text/x-python",
   "name": "python",
   "nbconvert_exporter": "python",
   "pygments_lexer": "ipython3",
   "version": "3.7.6"
  }
 },
 "nbformat": 4,
 "nbformat_minor": 4
}
